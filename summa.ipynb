{
 "cells": [
  {
   "cell_type": "markdown",
   "metadata": {},
   "source": [
    "Наименьшее число m, такое, что m! делится без остатка на 10 — это m=5 (5! = 120). Аналогично, наименьшее число m, такое, что m! делится без остатка на 25 — это m=10. В общем случае, значение функции s(n) равно наименьшему числу m, такому что m! без остатка делится на n. Определим функцию S(M, N) = ∑s(n) для всех n ∈ [M, N]. К примеру, S(6, 10) = 3 + 7 + 4 + 6 + 5 = 25. Найдите S(2000000, 2100000)."
   ]
  },
  {
   "cell_type": "code",
   "execution_count": 1,
   "metadata": {
    "collapsed": true
   },
   "outputs": [],
   "source": [
    "import math\n",
    "import functools"
   ]
  },
  {
   "cell_type": "code",
   "execution_count": 2,
   "metadata": {
    "collapsed": true
   },
   "outputs": [],
   "source": [
    "def eratosthenes(N):\n",
    "    simp = [2]\n",
    "    nonsimp = set()\n",
    "    for i in range(3, N + 1, 2):\n",
    "        if i not in nonsimp:\n",
    "            nonsimp |= {j for j in range(i * i, N + 1, 2 * i)}\n",
    "            simp.append(i)\n",
    "    return simp"
   ]
  },
  {
   "cell_type": "code",
   "execution_count": 3,
   "metadata": {
    "collapsed": true
   },
   "outputs": [],
   "source": [
    "def mnojiteli(n):\n",
    "    out= []\n",
    "    d = 2\n",
    "    while d * d <= n:\n",
    "        if n % d == 0:\n",
    "            out.append(d)\n",
    "            n //= d\n",
    "        else:\n",
    "             d+= 1\n",
    "    if n > 1:\n",
    "        out.append(n)\n",
    "    return  out"
   ]
  },
  {
   "cell_type": "code",
   "execution_count": 4,
   "metadata": {
    "collapsed": true
   },
   "outputs": [],
   "source": [
    "def m_prime(l, m):\n",
    "    l = set(l)\n",
    "    out = list()\n",
    "    for p in l:\n",
    "        out.append(m + (p - m % p))\n",
    "    #print(out)\n",
    "    return sorted(out)[0]"
   ]
  },
  {
   "cell_type": "code",
   "execution_count": 5,
   "metadata": {
    "collapsed": false
   },
   "outputs": [
    {
     "data": {
      "text/plain": [
       "23"
      ]
     },
     "execution_count": 5,
     "metadata": {},
     "output_type": "execute_result"
    }
   ],
   "source": [
    "m_prime([23], 15)"
   ]
  },
  {
   "cell_type": "code",
   "execution_count": 41,
   "metadata": {
    "collapsed": false
   },
   "outputs": [],
   "source": [
    "#https://habrahabr.ru/post/311908/#comment_9858354\n",
    "def summa(M, N):\n",
    "    #primes = eratosthenes(N)\n",
    "    s = 0\n",
    "    for i in range(M, N+1):\n",
    "        #print(\"=== {} ===\".format(i))\n",
    "        temp = mnojiteli(i)\n",
    "        #print(temp)\n",
    "        m = 2\n",
    "        while temp:\n",
    "            #print(\"___{}___\".format(m))\n",
    "            #print(\"mnojiteli: \", mnojiteli(m))\n",
    "            for j in mnojiteli(m):\n",
    "                #print(\"j \",j)\n",
    "                if j in temp:\n",
    "                    #print(\"{} is removed from {}\".format(j, temp))\n",
    "                    temp.remove(j)\n",
    "                    \n",
    "                    #print(\"temp: \", temp)\n",
    "            if temp:\n",
    "                m = m_prime(temp, m)\n",
    "\n",
    "        else:\n",
    "            #print (\"final m = {}\".format (m))\n",
    "            s += m\n",
    "    return s\n",
    "            \n",
    "        \n",
    "        "
   ]
  },
  {
   "cell_type": "code",
   "execution_count": 43,
   "metadata": {
    "collapsed": false,
    "scrolled": true
   },
   "outputs": [
    {
     "data": {
      "text/plain": [
       "24254677393"
      ]
     },
     "execution_count": 43,
     "metadata": {},
     "output_type": "execute_result"
    }
   ],
   "source": [
    "summa(2000000, 2100000)"
   ]
  },
  {
   "cell_type": "code",
   "execution_count": null,
   "metadata": {
    "collapsed": true
   },
   "outputs": [],
   "source": []
  }
 ],
 "metadata": {
  "anaconda-cloud": {},
  "kernelspec": {
   "display_name": "Python [default]",
   "language": "python",
   "name": "python3"
  },
  "language_info": {
   "codemirror_mode": {
    "name": "ipython",
    "version": 3
   },
   "file_extension": ".py",
   "mimetype": "text/x-python",
   "name": "python",
   "nbconvert_exporter": "python",
   "pygments_lexer": "ipython3",
   "version": "3.5.2"
  }
 },
 "nbformat": 4,
 "nbformat_minor": 0
}
