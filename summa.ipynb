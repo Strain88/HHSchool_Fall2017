{
 "cells": [
  {
   "cell_type": "markdown",
   "metadata": {},
   "source": [
    "Наименьшее число m, такое, что m! делится без остатка на 10 — это m=5 (5! = 120). Аналогично, наименьшее число m, такое, что m! делится без остатка на 25 — это m=10. В общем случае, значение функции s(n) равно наименьшему числу m, такому что m! без остатка делится на n. Определим функцию S(M, N) = ∑s(n) для всех n ∈ [M, N]. К примеру, S(6, 10) = 3 + 7 + 4 + 6 + 5 = 25. Найдите S(2000000, 2100000)."
   ]
  },
  {
   "cell_type": "code",
   "execution_count": 86,
   "metadata": {
    "collapsed": true
   },
   "outputs": [],
   "source": [
    "import math\n",
    "import functools"
   ]
  },
  {
   "cell_type": "code",
   "execution_count": 116,
   "metadata": {
    "collapsed": false
   },
   "outputs": [],
   "source": [
    "def memo(func):\n",
    "    memo = {}\n",
    "    @functools.wraps(func)\n",
    "    def wraper(*args, **kwars):\n",
    "        key = str(args) + str(kwars)\n",
    "        if key not in memo:\n",
    "            memo[key] = func(*args, **kwars)\n",
    "        return memo[key]\n",
    "    return wraper\n",
    "\n",
    "@memo\n",
    "def fact1(n):\n",
    "    if n == 0:\n",
    "        return 1\n",
    "    else:\n",
    "        return n * fact(n-1)\n",
    "    \n",
    "@memo\n",
    "def fact(n):\n",
    "    return math.factorial(n)\n",
    "\n",
    "@memo\n",
    "def bin_pow_factorial(n):\n",
    "    def eratosthenes(N):\n",
    "        simp = [2]\n",
    "        nonsimp = set()\n",
    "        for i in range(3, N + 1, 2):\n",
    "            if i not in nonsimp:\n",
    "                nonsimp |= {j for j in range(i * i, N + 1, 2 * i)}\n",
    "                simp.append(i)\n",
    "        return simp\n",
    "    def calc_pow_in_factorial(a, b):\n",
    "        res = 0\n",
    "        while a:\n",
    "            a //= b\n",
    "            res += a\n",
    "        return res\n",
    "    fact_pows = [(x, calc_pow_in_factorial(n, x)) for x in reversed(eratosthenes(n+1))]\n",
    "    if len(fact_pows) % 2 == 1:\n",
    "        fact_pows.append((1, 1))\n",
    "    mul = [fact_pows[i][0] ** fact_pows[i][1] * fact_pows[-i-1][0] ** fact_pows[-i-1][1] for i in range(len(fact_pows)//2)]\n",
    "    while len(mul) > 1:\n",
    "        if len(mul) % 2 == 1:\n",
    "            mul.append(1)\n",
    "        mul = [mul[i] * mul[-i-1] for i in range(len(mul)//2)]\n",
    "    return mul[0]"
   ]
  },
  {
   "cell_type": "code",
   "execution_count": 117,
   "metadata": {
    "collapsed": false
   },
   "outputs": [
    {
     "name": "stdout",
     "output_type": "stream",
     "text": [
      "The slowest run took 1430093.47 times longer than the fastest. This could mean that an intermediate result is being cached.\n",
      "1 loop, best of 3: 2.37 µs per loop\n"
     ]
    }
   ],
   "source": [
    "%timeit fact1(500000)\n"
   ]
  },
  {
   "cell_type": "code",
   "execution_count": 118,
   "metadata": {
    "collapsed": false
   },
   "outputs": [
    {
     "name": "stdout",
     "output_type": "stream",
     "text": [
      "The slowest run took 860917.85 times longer than the fastest. This could mean that an intermediate result is being cached.\n",
      "1 loop, best of 3: 3.95 µs per loop\n"
     ]
    }
   ],
   "source": [
    "%timeit fact(500000)"
   ]
  },
  {
   "cell_type": "code",
   "execution_count": 119,
   "metadata": {
    "collapsed": false
   },
   "outputs": [
    {
     "name": "stdout",
     "output_type": "stream",
     "text": [
      "The slowest run took 2008796.53 times longer than the fastest. This could mean that an intermediate result is being cached.\n",
      "1 loop, best of 3: 2.37 µs per loop\n"
     ]
    }
   ],
   "source": [
    "%timeit bin_pow_factorial(500000)"
   ]
  },
  {
   "cell_type": "code",
   "execution_count": 88,
   "metadata": {
    "collapsed": false
   },
   "outputs": [],
   "source": [
    "def s(n):\n",
    "    w = 1\n",
    "    while True:\n",
    "        if bin_pow_factorial(w) % n == 0:\n",
    "            return w\n",
    "        w += 1\n",
    "    "
   ]
  },
  {
   "cell_type": "code",
   "execution_count": 89,
   "metadata": {
    "collapsed": false
   },
   "outputs": [],
   "source": [
    "def S(M, N):\n",
    "    sum = 0\n",
    "    for i in range(M, N+1):\n",
    "        sum += s(i)\n",
    "    return sum"
   ]
  },
  {
   "cell_type": "code",
   "execution_count": 90,
   "metadata": {
    "collapsed": false
   },
   "outputs": [
    {
     "data": {
      "text/plain": [
       "25"
      ]
     },
     "execution_count": 90,
     "metadata": {},
     "output_type": "execute_result"
    }
   ],
   "source": [
    "    S(6, 10)"
   ]
  },
  {
   "cell_type": "code",
   "execution_count": 131,
   "metadata": {
    "collapsed": false
   },
   "outputs": [],
   "source": [
    "def mod(n):\n",
    "    for i in range(1, n):\n",
    "        if math.factorial(i) // i == 0:\n",
    "            return i"
   ]
  },
  {
   "cell_type": "code",
   "execution_count": 132,
   "metadata": {
    "collapsed": false
   },
   "outputs": [
    {
     "name": "stdout",
     "output_type": "stream",
     "text": [
      "1 loop, best of 3: 1.98 s per loop\n"
     ]
    }
   ],
   "source": [
    "%timeit mod(5000)"
   ]
  },
  {
   "cell_type": "code",
   "execution_count": 135,
   "metadata": {
    "collapsed": false
   },
   "outputs": [
    {
     "name": "stdout",
     "output_type": "stream",
     "text": [
      "  2           0 SETUP_LOOP              52 (to 55)\n",
      "              3 LOAD_GLOBAL              0 (range)\n",
      "              6 LOAD_CONST               1 (1)\n",
      "              9 LOAD_FAST                0 (n)\n",
      "             12 CALL_FUNCTION            2 (2 positional, 0 keyword pair)\n",
      "             15 GET_ITER\n",
      "        >>   16 FOR_ITER                35 (to 54)\n",
      "             19 STORE_FAST               1 (i)\n",
      "\n",
      "  3          22 LOAD_GLOBAL              1 (math)\n",
      "             25 LOAD_ATTR                2 (factorial)\n",
      "             28 LOAD_FAST                1 (i)\n",
      "             31 CALL_FUNCTION            1 (1 positional, 0 keyword pair)\n",
      "             34 LOAD_FAST                1 (i)\n",
      "             37 BINARY_FLOOR_DIVIDE\n",
      "             38 LOAD_CONST               2 (0)\n",
      "             41 COMPARE_OP               2 (==)\n",
      "             44 POP_JUMP_IF_FALSE       16\n",
      "\n",
      "  4          47 LOAD_FAST                1 (i)\n",
      "             50 RETURN_VALUE\n",
      "             51 JUMP_ABSOLUTE           16\n",
      "        >>   54 POP_BLOCK\n",
      "        >>   55 LOAD_CONST               0 (None)\n",
      "             58 RETURN_VALUE\n"
     ]
    }
   ],
   "source": [
    "import dis\n",
    "\n",
    "dis.dis(mod)"
   ]
  },
  {
   "cell_type": "code",
   "execution_count": 133,
   "metadata": {
    "collapsed": true
   },
   "outputs": [],
   "source": [
    "def mod1(n):\n",
    "    for i in range(1, n):\n",
    "        if math.factorial(i) % i == 0:\n",
    "            return i"
   ]
  },
  {
   "cell_type": "code",
   "execution_count": 134,
   "metadata": {
    "collapsed": false
   },
   "outputs": [
    {
     "name": "stdout",
     "output_type": "stream",
     "text": [
      "The slowest run took 6.00 times longer than the fastest. This could mean that an intermediate result is being cached.\n",
      "1000000 loops, best of 3: 921 ns per loop\n"
     ]
    }
   ],
   "source": [
    "%timeit mod1(5000)"
   ]
  },
  {
   "cell_type": "code",
   "execution_count": 136,
   "metadata": {
    "collapsed": false
   },
   "outputs": [
    {
     "name": "stdout",
     "output_type": "stream",
     "text": [
      "  2           0 SETUP_LOOP              52 (to 55)\n",
      "              3 LOAD_GLOBAL              0 (range)\n",
      "              6 LOAD_CONST               1 (1)\n",
      "              9 LOAD_FAST                0 (n)\n",
      "             12 CALL_FUNCTION            2 (2 positional, 0 keyword pair)\n",
      "             15 GET_ITER\n",
      "        >>   16 FOR_ITER                35 (to 54)\n",
      "             19 STORE_FAST               1 (i)\n",
      "\n",
      "  3          22 LOAD_GLOBAL              1 (math)\n",
      "             25 LOAD_ATTR                2 (factorial)\n",
      "             28 LOAD_FAST                1 (i)\n",
      "             31 CALL_FUNCTION            1 (1 positional, 0 keyword pair)\n",
      "             34 LOAD_FAST                1 (i)\n",
      "             37 BINARY_MODULO\n",
      "             38 LOAD_CONST               2 (0)\n",
      "             41 COMPARE_OP               2 (==)\n",
      "             44 POP_JUMP_IF_FALSE       16\n",
      "\n",
      "  4          47 LOAD_FAST                1 (i)\n",
      "             50 RETURN_VALUE\n",
      "             51 JUMP_ABSOLUTE           16\n",
      "        >>   54 POP_BLOCK\n",
      "        >>   55 LOAD_CONST               0 (None)\n",
      "             58 RETURN_VALUE\n"
     ]
    }
   ],
   "source": [
    "dis.dis(mod1)"
   ]
  },
  {
   "cell_type": "code",
   "execution_count": 142,
   "metadata": {
    "collapsed": false
   },
   "outputs": [
    {
     "name": "stdout",
     "output_type": "stream",
     "text": [
      "1 loop, best of 3: 49.9 s per loop\n"
     ]
    }
   ],
   "source": [
    "%timeit bin_pow_factorial(2000000)"
   ]
  },
  {
   "cell_type": "code",
   "execution_count": 141,
   "metadata": {
    "collapsed": false
   },
   "outputs": [
    {
     "name": "stdout",
     "output_type": "stream",
     "text": [
      "0.0001017637740005739\n",
      "0.0003072650175454328\n"
     ]
    }
   ],
   "source": [
    "#https://habrahabr.ru/post/255761/#comment_8379739\n",
    "from timeit import timeit\n",
    "\n",
    "def naive_factorial(n):\n",
    "    res = 1\n",
    "    for i in range(2, n + 1):\n",
    "        res *= i\n",
    "    return res\n",
    "\n",
    "def bin_pow_factorial(n):\n",
    "    def eratosthenes(N):\n",
    "        simp = [2]\n",
    "        nonsimp = set()\n",
    "        for i in range(3, N + 1, 2):\n",
    "            if i not in nonsimp:\n",
    "                nonsimp |= {j for j in range(i * i, N + 1, 2 * i)}\n",
    "                simp.append(i)\n",
    "        return simp\n",
    "    def calc_pow_in_factorial(a, b):\n",
    "        res = 0\n",
    "        while a:\n",
    "            a //= b\n",
    "            res += a\n",
    "        return res\n",
    "    fact_pows = [(x, calc_pow_in_factorial(n, x)) for x in reversed(eratosthenes(n+1))]\n",
    "    if len(fact_pows) % 2 == 1:\n",
    "        fact_pows.append((1, 1))\n",
    "    mul = [fact_pows[i][0] ** fact_pows[i][1] * fact_pows[-i-1][0] ** fact_pows[-i-1][1] for i in range(len(fact_pows)//2)]\n",
    "    while len(mul) > 1:\n",
    "        if len(mul) % 2 == 1:\n",
    "            mul.append(1)\n",
    "        mul = [mul[i] * mul[-i-1] for i in range(len(mul)//2)]\n",
    "    return mul[0]\n",
    "\n",
    "\n",
    "\n",
    "N = 500\n",
    "REPEATS = 10\n",
    "setup = 'from __main__ import N, naive_factorial, bin_pow_factorial'\n",
    "print(timeit(stmt = 'naive_factorial(N)', setup=setup, number=REPEATS)/REPEATS)\n",
    "print(timeit(stmt = 'bin_pow_factorial(N)', setup=setup, number=REPEATS)/REPEATS)"
   ]
  },
  {
   "cell_type": "markdown",
   "metadata": {
    "collapsed": true
   },
   "source": [
    "https://habrahabr.ru/post/311908/#comment_9849374\n",
    "У меня считалось около 0.2 с для диапазона [5300000, 5400000]. Для вашего случая (от 630000000 до 640000000) сейчас проверил, посчиталось примерно за минуту.\n",
    "\n",
    "Но алгоритм получения числа m придумал несколько иной:\n",
    "\n",
    "единожды получаем все простые числа в нужном диапазоне (в моём случае от 2 до 5400000), используя решето Эратосфена;\n",
    "раскладываем число на простые множители (пользуясь полученной таблицей простых чисел) и получаем список с множителями, причём множители могут повторяться;\n",
    "предполагаем, что число m = 1;\n",
    "для каждой группы множителей (группой назовём множители имеющие одинаковое значение) считаем количество элементов (N) в группе и выполняем следующее:\n",
    "берём первое число кратное множителю;\n",
    "делим его на множитель до тех пор, пока оно делится без остатка;\n",
    "количество раз, которое его удалось поделить, вычитаем из N;\n",
    "если N > 0, берем следующее число кратное множителю и переходим в п. 2;\n",
    "если данное число, кратное множителю, больше m, принимаем его за m и переходим к следующей группе;"
   ]
  }
 ],
 "metadata": {
  "kernelspec": {
   "display_name": "Python 3",
   "language": "python",
   "name": "python3"
  },
  "language_info": {
   "codemirror_mode": {
    "name": "ipython",
    "version": 3
   },
   "file_extension": ".py",
   "mimetype": "text/x-python",
   "name": "python",
   "nbconvert_exporter": "python",
   "pygments_lexer": "ipython3",
   "version": "3.5.2"
  }
 },
 "nbformat": 4,
 "nbformat_minor": 0
}
