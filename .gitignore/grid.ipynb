{
 "cells": [
  {
   "cell_type": "markdown",
   "metadata": {},
   "source": [
    "Рассмотрим спираль, в которой, начиная с 1 в центре, последовательно расставим числа по часовой стрелке, \n",
    "пока не получится спираль 5 на 5 \n",
    "\n",
    "21 22 23 24 25\n",
    "20  7  8  9 10\n",
    "19  6  1  2 11\n",
    "18  5  4  3 12\n",
    "17 16 15 14 13\n",
    "Можно проверить, что сумма всех чисел на диагоналях равна 101. \n",
    "\n",
    "Чему будет равна сумма чисел на диагоналях, для спирали размером 1013 на 1013?"
   ]
  },
  {
   "cell_type": "code",
   "execution_count": 210,
   "metadata": {
    "collapsed": false
   },
   "outputs": [],
   "source": [
    "import pprint\n",
    "\n",
    "class GRID:\n",
    "    \n",
    "    def __init__(self, n):\n",
    "        self.grid = list()\n",
    "        self.n = n\n",
    "        for _ in range(n):\n",
    "            temp = list()\n",
    "            for _ in range(n):\n",
    "                temp.append( 0)\n",
    "            self.grid.append(temp)\n",
    "            \n",
    "        self.x, self.y = self.n // 2, self.n // 2\n",
    "        self.max_val = self.n * self.n\n",
    "        self.value = 1\n",
    "        self.grid[self.x][self.y] = self.value\n",
    "        self.fill()\n",
    "        \n",
    "    def go_right(self, step):\n",
    "        for _ in range(step):\n",
    "            self.x += 1\n",
    "            self.value += 1\n",
    "            try:\n",
    "                self.grid[self.y][self.x] = self.value\n",
    "            except IndexError:\n",
    "                break\n",
    "            \n",
    "    def go_left(self, step):\n",
    "        for _ in range(step):\n",
    "            self.x -= 1\n",
    "            self.value += 1\n",
    "            try:\n",
    "                self.grid[self.y][self.x] = self.value\n",
    "            except Indexerror:\n",
    "                break\n",
    "\n",
    "            \n",
    "    def go_up(self, step):\n",
    "        for _ in range(step):\n",
    "            self.y += 1\n",
    "            self.value += 1\n",
    "            try:\n",
    "                self.grid[self.y][self.x] = self.value\n",
    "            except IndexError:\n",
    "                break\n",
    "            \n",
    "    def go_down(self, step):\n",
    "        for _ in range(step):\n",
    "            self.y -= 1\n",
    "            self.value += 1\n",
    "            try:\n",
    "                self.grid[self.y][self.x] = self.value\n",
    "            except Indexerror:\n",
    "                break\n",
    "            \n",
    "    def fill(self):\n",
    "        for i in range(1, self.max_val):\n",
    "            if self.value >= self.max_val:\n",
    "                break\n",
    "            if i % 2 != 0:\n",
    "                self.go_right(i)\n",
    "                self.go_up(i)\n",
    "            else:\n",
    "                self.go_left(i)\n",
    "                self.go_down(i)\n",
    "                \n",
    "    def __str__(self):\n",
    "        pprint.pprint(self.grid)\n",
    "\n",
    "    def __repr__(self):\n",
    "        pprint.pprint(self.grid)\n",
    "        \n",
    "    def diag(self):\n",
    "        summ = list()\n",
    "        for i in range(self.n):\n",
    "            summ.append(self.grid[i][i])\n",
    "            summ.append(self.grid[i-1][-i])\n",
    "        return sum(summ) - 1\n"
   ]
  },
  {
   "cell_type": "code",
   "execution_count": 214,
   "metadata": {
    "collapsed": false
   },
   "outputs": [],
   "source": [
    "grid = GRID(1013)"
   ]
  },
  {
   "cell_type": "code",
   "execution_count": 212,
   "metadata": {
    "collapsed": false
   },
   "outputs": [
    {
     "data": {
      "text/plain": [
       "[[21, 22, 23, 24, 25],\n",
       " [20, 7, 8, 9, 10],\n",
       " [19, 6, 1, 2, 11],\n",
       " [18, 5, 4, 3, 12],\n",
       " [17, 16, 15, 14, 13]]"
      ]
     },
     "execution_count": 212,
     "metadata": {},
     "output_type": "execute_result"
    }
   ],
   "source": [
    "#grid.grid"
   ]
  },
  {
   "cell_type": "code",
   "execution_count": 215,
   "metadata": {
    "collapsed": false
   },
   "outputs": [
    {
     "data": {
      "text/plain": [
       "693520565"
      ]
     },
     "execution_count": 215,
     "metadata": {},
     "output_type": "execute_result"
    }
   ],
   "source": [
    "grid.diag()"
   ]
  },
  {
   "cell_type": "code",
   "execution_count": null,
   "metadata": {
    "collapsed": true
   },
   "outputs": [],
   "source": []
  },
  {
   "cell_type": "code",
   "execution_count": null,
   "metadata": {
    "collapsed": true
   },
   "outputs": [],
   "source": []
  }
 ],
 "metadata": {
  "kernelspec": {
   "display_name": "Python 3",
   "language": "python",
   "name": "python3"
  },
  "language_info": {
   "codemirror_mode": {
    "name": "ipython",
    "version": 3
   },
   "file_extension": ".py",
   "mimetype": "text/x-python",
   "name": "python",
   "nbconvert_exporter": "python",
   "pygments_lexer": "ipython3",
   "version": "3.5.2"
  }
 },
 "nbformat": 4,
 "nbformat_minor": 0
}
