{
 "cells": [
  {
   "cell_type": "markdown",
   "metadata": {},
   "source": [
    "Наименьшее число m, такое, что m! делится без остатка на 10 — это m=5 (5! = 120). Аналогично, наименьшее число m, такое, что m! делится без остатка на 25 — это m=10. В общем случае, значение функции s(n) равно наименьшему числу m, такому что m! без остатка делится на n. Определим функцию S(M, N) = ∑s(n) для всех n ∈ [M, N]. К примеру, S(6, 10) = 3 + 7 + 4 + 6 + 5 = 25. Найдите S(2000000, 2100000)."
   ]
  },
  {
   "cell_type": "code",
   "execution_count": 1,
   "metadata": {
    "collapsed": true
   },
   "outputs": [],
   "source": [
    "import math\n",
    "import functools"
   ]
  },
  {
   "cell_type": "code",
   "execution_count": 12,
   "metadata": {
    "collapsed": false
   },
   "outputs": [
    {
     "name": "stdout",
     "output_type": "stream",
     "text": [
      "fact\n"
     ]
    }
   ],
   "source": [
    "def memo(func):\n",
    "    memo = {}\n",
    "    print(func.__name__)\n",
    "    @functools.wraps(func)\n",
    "    def wraper(*args, **kwars):\n",
    "        key = str(args) + str(kwars)\n",
    "        if key not in memo:\n",
    "            memo[key] = func(*args, **kwars)\n",
    "        print (memo)\n",
    "        print (memo[key])\n",
    "        return memo[key]\n",
    "    return wraper\n",
    "\n",
    "@memo\n",
    "def fact(n):\n",
    "    if n == 0:\n",
    "        return 1\n",
    "    else:\n",
    "        return n * fact(n-1)\n"
   ]
  },
  {
   "cell_type": "code",
   "execution_count": 13,
   "metadata": {
    "collapsed": false
   },
   "outputs": [
    {
     "name": "stdout",
     "output_type": "stream",
     "text": [
      "s\n"
     ]
    }
   ],
   "source": [
    "@memo\n",
    "def s(n):\n",
    "    w = 0\n",
    "    while True:\n",
    "        if fact(w) % n == 0:\n",
    "            return w\n",
    "        w += 1\n",
    "    "
   ]
  },
  {
   "cell_type": "code",
   "execution_count": 14,
   "metadata": {
    "collapsed": false
   },
   "outputs": [],
   "source": [
    "def S(M, N):\n",
    "    sum = 0\n",
    "    for i in range(M, N+1):\n",
    "        sum += s(i)\n",
    "    return sum"
   ]
  },
  {
   "cell_type": "code",
   "execution_count": 16,
   "metadata": {
    "collapsed": false
   },
   "outputs": [
    {
     "name": "stdout",
     "output_type": "stream",
     "text": [
      "{'(9,){}': 6, '(10,){}': 5, '(8,){}': 4, '(6,){}': 3, '(7,){}': 7}\n",
      "3\n",
      "{'(9,){}': 6, '(10,){}': 5, '(8,){}': 4, '(6,){}': 3, '(7,){}': 7}\n",
      "7\n",
      "{'(9,){}': 6, '(10,){}': 5, '(8,){}': 4, '(6,){}': 3, '(7,){}': 7}\n",
      "4\n",
      "{'(9,){}': 6, '(10,){}': 5, '(8,){}': 4, '(6,){}': 3, '(7,){}': 7}\n",
      "6\n",
      "{'(9,){}': 6, '(10,){}': 5, '(8,){}': 4, '(6,){}': 3, '(7,){}': 7}\n",
      "5\n"
     ]
    },
    {
     "data": {
      "text/plain": [
       "25"
      ]
     },
     "execution_count": 16,
     "metadata": {},
     "output_type": "execute_result"
    }
   ],
   "source": [
    "S(6, 10)"
   ]
  },
  {
   "cell_type": "code",
   "execution_count": 18,
   "metadata": {
    "collapsed": false
   },
   "outputs": [
    {
     "data": {
      "text/plain": [
       "3584866"
      ]
     },
     "execution_count": 18,
     "metadata": {},
     "output_type": "execute_result"
    }
   ],
   "source": [
    "S(20000, 21000)"
   ]
  },
  {
   "cell_type": "code",
   "execution_count": null,
   "metadata": {
    "collapsed": true
   },
   "outputs": [],
   "source": []
  }
 ],
 "metadata": {
  "kernelspec": {
   "display_name": "Python 3",
   "language": "python",
   "name": "python3"
  },
  "language_info": {
   "codemirror_mode": {
    "name": "ipython",
    "version": 3
   },
   "file_extension": ".py",
   "mimetype": "text/x-python",
   "name": "python",
   "nbconvert_exporter": "python",
   "pygments_lexer": "ipython3",
   "version": "3.5.2"
  }
 },
 "nbformat": 4,
 "nbformat_minor": 0
}
