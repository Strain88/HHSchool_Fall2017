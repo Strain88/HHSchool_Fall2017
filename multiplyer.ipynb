{
 "cells": [
  {
   "cell_type": "markdown",
   "metadata": {},
   "source": [
    "Число 125874 и результат умножения его на 2 — 251748 можно получить друг из друга перестановкой цифр. \n",
    "\n",
    "Найдите наименьшее положительное натуральное x такое, что числа 3*x, 4*x можно получить друг из друга перестановкой цифр."
   ]
  },
  {
   "cell_type": "code",
   "execution_count": 95,
   "metadata": {
    "collapsed": true
   },
   "outputs": [],
   "source": [
    "from itertools import permutations"
   ]
  },
  {
   "cell_type": "code",
   "execution_count": 96,
   "metadata": {
    "collapsed": false
   },
   "outputs": [
    {
     "name": "stdout",
     "output_type": "stream",
     "text": [
      "54\n",
      "81\n",
      "108\n",
      "135\n",
      "162\n",
      "189\n",
      "216\n",
      "243\n",
      "423\n",
      "540\n",
      "801\n",
      "810\n",
      "981\n",
      "1008\n",
      "1080\n",
      "1098\n",
      "1350\n",
      "1602\n",
      "1620\n",
      "1890\n",
      "1899\n",
      "1989\n",
      "2016\n",
      "2160\n",
      "2304\n",
      "2430\n",
      "4023\n",
      "4230\n",
      "4608\n",
      "5400\n",
      "8001\n",
      "8010\n",
      "8046\n",
      "8100\n",
      "9801\n",
      "9810\n",
      "9981\n",
      "Not FOUND\n"
     ]
    }
   ],
   "source": [
    "x = 1\n",
    "while x < 10000:\n",
    "    if 3 * x in list(map(int, (\"\".join(z) for z in list(permutations(str(4 * x), len(str(4 * x)))) if not (\"\".join(z).startswith('0'))) )):\n",
    "        print(x)\n",
    "    x += 1\n",
    "else:\n",
    "    print(\"Not FOUND\")"
   ]
  },
  {
   "cell_type": "code",
   "execution_count": null,
   "metadata": {
    "collapsed": true
   },
   "outputs": [],
   "source": []
  }
 ],
 "metadata": {
  "kernelspec": {
   "display_name": "Python 3",
   "language": "python",
   "name": "python3"
  },
  "language_info": {
   "codemirror_mode": {
    "name": "ipython",
    "version": 3
   },
   "file_extension": ".py",
   "mimetype": "text/x-python",
   "name": "python",
   "nbconvert_exporter": "python",
   "pygments_lexer": "ipython3",
   "version": "3.5.2"
  }
 },
 "nbformat": 4,
 "nbformat_minor": 0
}
