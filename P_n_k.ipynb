{
 "cells": [
  {
   "cell_type": "markdown",
   "metadata": {},
   "source": [
    "Определим функцию P(n,k) следующим образом: P(n,k) = 1, если n может быть представлено в виде суммы k простых чисел (простые числа в записи могут повторяться, 1 не является простым числом) и P(n,k) = 0 в обратном случае.\n",
    "К примеру, P(10,2) = 1, т.к. 10 может быть представлено в виде суммы 3 + 7 или 5 + 5, а P(11,2) = 0, так как никакие два простых числа не могут дать в сумме 11.\n",
    "Определим функцию S(n) как сумму значений функции P(i,k) для всех i и k, таких что 1≤i≤n, 1≤k≤n. Таким образом, S(2) = P(1,1) + P(2,1) + P(1,2) + P(2,2) = 1, S(10) = 20, S(1000) = 248838.\n",
    "\n",
    "Найдите S(13751)"
   ]
  },
  {
   "cell_type": "code",
   "execution_count": 1,
   "metadata": {
    "collapsed": true
   },
   "outputs": [],
   "source": [
    "from itertools import permutations, combinations, product, combinations_with_replacement\n",
    "import math"
   ]
  },
  {
   "cell_type": "code",
   "execution_count": 2,
   "metadata": {
    "collapsed": true
   },
   "outputs": [],
   "source": [
    "def eratosthenes(N):\n",
    "    simp = [2]\n",
    "    nonsimp = set()\n",
    "    for i in range(3, N + 1, 2):\n",
    "        if i not in nonsimp:\n",
    "            nonsimp |= {j for j in range(i * i, N + 1, 2 * i)}\n",
    "            simp.append(i)\n",
    "    return simp"
   ]
  },
  {
   "cell_type": "code",
   "execution_count": 209,
   "metadata": {
    "collapsed": false
   },
   "outputs": [],
   "source": [
    "def cutter(n, thelist):\n",
    "    return list(filter(lambda x: x <= n, thelist))"
   ]
  },
  {
   "cell_type": "code",
   "execution_count": 241,
   "metadata": {
    "collapsed": false,
    "scrolled": false
   },
   "outputs": [
    {
     "data": {
      "text/plain": [
       "20"
      ]
     },
     "execution_count": 241,
     "metadata": {},
     "output_type": "execute_result"
    }
   ],
   "source": [
    "def S(n):\n",
    "    s = 0\n",
    "    primes = eratosthenes(n)\n",
    "    \n",
    "    \n",
    "    def P_n_k(n, k):       \n",
    "        #print(\"P_n_k(n={}, k={}, {})\".format(n, k, prime_list))\n",
    "        for i in  combinations_with_replacement(cutter(n, primes), k):\n",
    "            #print(\"sum({}) = {}\".format(i, sum(i)))\n",
    "            if sum(i) == n:\n",
    "                #print(\"sum({}) = {}\".format(i, sum(i)))\n",
    "                #print(\"equal\")\n",
    "                return 1\n",
    "        else:\n",
    "            return 0\n",
    "    \n",
    "    \n",
    "    for i in range(n, 1, -1):\n",
    "        for j in range(1, i//2+1):\n",
    "            if (i in primes) and (j == 1):\n",
    "                s += 1\n",
    "                continue\n",
    "            if (i % 2 == 0) and (j == 1):\n",
    "                continue\n",
    "\n",
    "            s += P_n_k(i, j)\n",
    "            #print(\"s = {}\".format(s))   \n",
    "    return s\n",
    "\n",
    "S(10)"
   ]
  },
  {
   "cell_type": "code",
   "execution_count": 243,
   "metadata": {
    "collapsed": false
   },
   "outputs": [
    {
     "name": "stdout",
     "output_type": "stream",
     "text": [
      "1 loop, best of 3: 1.33 s per loop\n"
     ]
    }
   ],
   "source": [
    "%timeit S(200)"
   ]
  },
  {
   "cell_type": "code",
   "execution_count": null,
   "metadata": {
    "collapsed": true
   },
   "outputs": [],
   "source": []
  }
 ],
 "metadata": {
  "anaconda-cloud": {},
  "kernelspec": {
   "display_name": "Python [default]",
   "language": "python",
   "name": "python3"
  },
  "language_info": {
   "codemirror_mode": {
    "name": "ipython",
    "version": 3
   },
   "file_extension": ".py",
   "mimetype": "text/x-python",
   "name": "python",
   "nbconvert_exporter": "python",
   "pygments_lexer": "ipython3",
   "version": "3.5.2"
  }
 },
 "nbformat": 4,
 "nbformat_minor": 0
}
