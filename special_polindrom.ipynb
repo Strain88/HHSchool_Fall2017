{
 "cells": [
  {
   "cell_type": "markdown",
   "metadata": {},
   "source": [
    "Если мы возьмем 47, перевернем его и сложим, получится 47 + 74 = 121 — число-палиндром. \n",
    "\n",
    "Если взять 349 и проделать над ним эту операцию три раза, то тоже получится палиндром: \n",
    "349 + 943 = 1292\n",
    "1292 + 2921 = 4213\n",
    "4213 + 3124 = 7337\n",
    "\n",
    "Найдите количество положительных натуральных чисел меньших 13443 таких, что из них нельзя получить палиндром за 50 или менее применений описанной операции (операция должна быть применена хотя бы один раз)."
   ]
  },
  {
   "cell_type": "code",
   "execution_count": 41,
   "metadata": {
    "collapsed": false
   },
   "outputs": [],
   "source": [
    "def is_polindrom(n):\n",
    "    n_str = str (n)\n",
    "    mid = int (len( n_str ) / 2 )\n",
    "    for i in range(mid):\n",
    "        if (int(n_str[i]) != int(n_str[  -1-i])):\n",
    "            return False\n",
    "    else:\n",
    "        return True\n"
   ]
  },
  {
   "cell_type": "code",
   "execution_count": 37,
   "metadata": {
    "collapsed": true
   },
   "outputs": [],
   "source": [
    "def reverse(n):\n",
    "    return int( str(n)[::-1])"
   ]
  },
  {
   "cell_type": "code",
   "execution_count": 51,
   "metadata": {
    "collapsed": false
   },
   "outputs": [],
   "source": [
    "def is_speciac_polindrom(n):\n",
    "    if is_polindrom(n + reverse(n)):\n",
    "        return True\n",
    "    else:\n",
    "        return False"
   ]
  },
  {
   "cell_type": "code",
   "execution_count": 63,
   "metadata": {
    "collapsed": false
   },
   "outputs": [],
   "source": [
    "def is_polindrom50(n):\n",
    "    step = 1\n",
    "    temp = n\n",
    "    while step <= 50:\n",
    "        if is_speciac_polindrom(temp):\n",
    "            return True\n",
    "        else:\n",
    "            temp = temp + reverse(temp)\n",
    "        \n",
    "        step +=1\n",
    "    else:\n",
    "        return False"
   ]
  },
  {
   "cell_type": "code",
   "execution_count": 59,
   "metadata": {
    "collapsed": true
   },
   "outputs": [],
   "source": [
    "out = list()\n",
    "for test in range(1, 13444):\n",
    "    if not is_polindrom50(test):\n",
    "        out.append(test)"
   ]
  },
  {
   "cell_type": "code",
   "execution_count": 64,
   "metadata": {
    "collapsed": false
   },
   "outputs": [
    {
     "data": {
      "text/plain": [
       "365"
      ]
     },
     "execution_count": 64,
     "metadata": {},
     "output_type": "execute_result"
    }
   ],
   "source": [
    "len(out)"
   ]
  }
 ],
 "metadata": {
  "kernelspec": {
   "display_name": "Python 3",
   "language": "python",
   "name": "python3"
  },
  "language_info": {
   "codemirror_mode": {
    "name": "ipython",
    "version": 3
   },
   "file_extension": ".py",
   "mimetype": "text/x-python",
   "name": "python",
   "nbconvert_exporter": "python",
   "pygments_lexer": "ipython3",
   "version": "3.5.2"
  }
 },
 "nbformat": 4,
 "nbformat_minor": 0
}
